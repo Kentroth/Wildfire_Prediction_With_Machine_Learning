{
 "cells": [
  {
   "cell_type": "code",
   "execution_count": 2,
   "metadata": {},
   "outputs": [],
   "source": [
    "import requests\n",
    "import pandas as pd\n",
    "import time\n",
    "import os\n",
    "from config import token\n",
    "import sqlite3\n",
    "import warnings\n",
    "import calendar"
   ]
  },
  {
   "cell_type": "code",
   "execution_count": 3,
   "metadata": {},
   "outputs": [
    {
     "name": "stderr",
     "output_type": "stream",
     "text": [
      "C:\\Users\\kentr\\AppData\\Local\\Temp\\ipykernel_35776\\4172846240.py:1: DtypeWarning: Columns (9,11,12,13,14,15,16,17,18,19,26,27,36,38) have mixed types. Specify dtype option on import or set low_memory=False.\n",
      "  wildfire=pd.read_csv('Resources/data.csv')\n"
     ]
    }
   ],
   "source": [
    "wildfire=pd.read_csv('Resources/data.csv')"
   ]
  },
  {
   "cell_type": "code",
   "execution_count": 5,
   "metadata": {},
   "outputs": [
    {
     "data": {
      "text/plain": [
       "Index(['OBJECTID', 'Shape', 'FOD_ID', 'FPA_ID', 'SOURCE_SYSTEM_TYPE',\n",
       "       'SOURCE_SYSTEM', 'NWCG_REPORTING_AGENCY', 'NWCG_REPORTING_UNIT_ID',\n",
       "       'NWCG_REPORTING_UNIT_NAME', 'SOURCE_REPORTING_UNIT',\n",
       "       'SOURCE_REPORTING_UNIT_NAME', 'LOCAL_FIRE_REPORT_ID',\n",
       "       'LOCAL_INCIDENT_ID', 'FIRE_CODE', 'FIRE_NAME',\n",
       "       'ICS_209_PLUS_INCIDENT_JOIN_ID', 'ICS_209_PLUS_COMPLEX_JOIN_ID',\n",
       "       'MTBS_ID', 'MTBS_FIRE_NAME', 'COMPLEX_NAME', 'FIRE_YEAR',\n",
       "       'DISCOVERY_DATE', 'DISCOVERY_DOY', 'DISCOVERY_TIME',\n",
       "       'NWCG_CAUSE_CLASSIFICATION', 'NWCG_GENERAL_CAUSE',\n",
       "       'NWCG_CAUSE_AGE_CATEGORY', 'CONT_DATE', 'CONT_DOY', 'CONT_TIME',\n",
       "       'FIRE_SIZE', 'FIRE_SIZE_CLASS', 'LATITUDE', 'LONGITUDE', 'OWNER_DESCR',\n",
       "       'STATE', 'COUNTY', 'FIPS_CODE', 'FIPS_NAME'],\n",
       "      dtype='object')"
      ]
     },
     "execution_count": 5,
     "metadata": {},
     "output_type": "execute_result"
    }
   ],
   "source": [
    "wildfire.columns"
   ]
  },
  {
   "cell_type": "code",
   "execution_count": 9,
   "metadata": {},
   "outputs": [
    {
     "data": {
      "text/plain": [
       "NWCG_GENERAL_CAUSE\n",
       "Missing data/not specified/undetermined       597933\n",
       "Debris and open burning                       535851\n",
       "Natural                                       327319\n",
       "Arson/incendiarism                            320814\n",
       "Equipment and vehicle use                     190319\n",
       "Recreation and ceremony                        99473\n",
       "Misuse of fire by a minor                      66280\n",
       "Smoking                                        63783\n",
       "Railroad operations and maintenance            37292\n",
       "Power generation/transmission/distribution     32652\n",
       "Fireworks                                      18599\n",
       "Other causes                                   10517\n",
       "Firearms and explosives use                     2734\n",
       "Name: count, dtype: int64"
      ]
     },
     "execution_count": 9,
     "metadata": {},
     "output_type": "execute_result"
    }
   ],
   "source": [
    "wildfire['NWCG_GENERAL_CAUSE'].value_counts()"
   ]
  },
  {
   "cell_type": "code",
   "execution_count": 11,
   "metadata": {},
   "outputs": [
    {
     "data": {
      "text/plain": [
       "OWNER_DESCR\n",
       "MISSING/NOT SPECIFIED    1068424\n",
       "PRIVATE                   597678\n",
       "USFS                      214541\n",
       "BIA                       123312\n",
       "BLM                        73739\n",
       "STATE OR PRIVATE           71576\n",
       "STATE                      56487\n",
       "NPS                        19938\n",
       "MUNICIPAL/LOCAL            19602\n",
       "OTHER FEDERAL              15231\n",
       "FWS                        13923\n",
       "TRIBAL                     11680\n",
       "UNDEFINED FEDERAL          10548\n",
       "COUNTY                      6343\n",
       "BOR                          521\n",
       "FOREIGN                       21\n",
       "Private                        2\n",
       "Name: count, dtype: int64"
      ]
     },
     "execution_count": 11,
     "metadata": {},
     "output_type": "execute_result"
    }
   ],
   "source": [
    "wildfire['OWNER_DESCR'].value_counts()"
   ]
  },
  {
   "cell_type": "code",
   "execution_count": 12,
   "metadata": {},
   "outputs": [
    {
     "data": {
      "text/plain": [
       "SOURCE_SYSTEM_TYPE\n",
       "NONFED       1706587\n",
       "FED           539415\n",
       "INTERAGCY      57564\n",
       "Name: count, dtype: int64"
      ]
     },
     "execution_count": 12,
     "metadata": {},
     "output_type": "execute_result"
    }
   ],
   "source": [
    "wildfire['SOURCE_SYSTEM_TYPE'].value_counts()"
   ]
  },
  {
   "cell_type": "code",
   "execution_count": 15,
   "metadata": {},
   "outputs": [
    {
     "data": {
      "text/plain": [
       "NWCG_REPORTING_AGENCY\n",
       "ST/C&L    1728168\n",
       "FS         250995\n",
       "BIA        138996\n",
       "BLM        113672\n",
       "NPS         23599\n",
       "IA          21853\n",
       "FWS         21331\n",
       "TRIBE        4737\n",
       "DOD           163\n",
       "BOR            37\n",
       "DOE            13\n",
       "Tribe           2\n",
       "Name: count, dtype: int64"
      ]
     },
     "execution_count": 15,
     "metadata": {},
     "output_type": "execute_result"
    }
   ],
   "source": [
    "wildfire['NWCG_REPORTING_AGENCY'].value_counts()"
   ]
  },
  {
   "cell_type": "code",
   "execution_count": null,
   "metadata": {},
   "outputs": [],
   "source": []
  }
 ],
 "metadata": {
  "kernelspec": {
   "display_name": "base",
   "language": "python",
   "name": "python3"
  },
  "language_info": {
   "codemirror_mode": {
    "name": "ipython",
    "version": 3
   },
   "file_extension": ".py",
   "mimetype": "text/x-python",
   "name": "python",
   "nbconvert_exporter": "python",
   "pygments_lexer": "ipython3",
   "version": "3.9.13"
  },
  "orig_nbformat": 4
 },
 "nbformat": 4,
 "nbformat_minor": 2
}
