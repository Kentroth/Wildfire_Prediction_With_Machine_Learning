{
 "cells": [
  {
   "cell_type": "code",
   "execution_count": 3,
   "metadata": {},
   "outputs": [
    {
     "name": "stderr",
     "output_type": "stream",
     "text": [
      "C:\\Users\\Kinde\\AppData\\Local\\Temp\\ipykernel_21248\\3178127118.py:6: DtypeWarning: Columns (2,3,4,13,23) have mixed types. Specify dtype option on import or set low_memory=False.\n",
      "  data_frame = pd.read_csv(csv_file_path)\n"
     ]
    },
    {
     "name": "stdout",
     "output_type": "stream",
     "text": [
      "CSV data has been successfully imported to the SQLite database: Resources/climate_wildfire.sqlite\n"
     ]
    }
   ],
   "source": [
    "#  This code needs to be run after all required year are downloaded and merged into one csv file.\n",
    "\n",
    "# import required modules and packages \n",
    "import pandas as pd\n",
    "import sqlite3\n",
    "\n",
    "# Load CSV file using pandas\n",
    "csv_file_path = 'final_data.csv' \n",
    "data_frame = pd.read_csv(csv_file_path)\n",
    "\n",
    "# Connect to SQLite database\n",
    "sqlite_file_path = 'climate_wildfire.sqlite'\n",
    "connection = sqlite3.connect(sqlite_file_path)\n",
    "\n",
    "# Convert dataframe loaded with csv data to SQLite table\n",
    "table_name = 'climate_fire'\n",
    "data_frame.to_sql(table_name, connection, if_exists='replace', index=False)\n",
    "\n",
    "# Commit changes\n",
    "connection.commit()\n",
    "\n",
    "# Close connection\n",
    "connection.close()"
   ]
  }
 ],
 "metadata": {
  "kernelspec": {
   "display_name": "base",
   "language": "python",
   "name": "python3"
  },
  "language_info": {
   "codemirror_mode": {
    "name": "ipython",
    "version": 3
   },
   "file_extension": ".py",
   "mimetype": "text/x-python",
   "name": "python",
   "nbconvert_exporter": "python",
   "pygments_lexer": "ipython3",
   "version": "3.10.11"
  },
  "orig_nbformat": 4
 },
 "nbformat": 4,
 "nbformat_minor": 2
}
